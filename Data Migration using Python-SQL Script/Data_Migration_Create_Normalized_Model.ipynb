{
 "cells": [
  {
   "cell_type": "code",
   "execution_count": 1,
   "metadata": {},
   "outputs": [
    {
     "name": "stdout",
     "output_type": "stream",
     "text": [
      "Requirement already satisfied: psycopg2 in c:\\programdata\\anaconda3\\lib\\site-packages (2.9.9)\n"
     ]
    }
   ],
   "source": [
    "!pip install psycopg2"
   ]
  },
  {
   "cell_type": "code",
   "execution_count": 2,
   "metadata": {},
   "outputs": [],
   "source": [
    "import pandas as pd\n",
    "import numpy as np\n",
    "import psycopg2"
   ]
  },
  {
   "cell_type": "code",
   "execution_count": 4,
   "metadata": {},
   "outputs": [],
   "source": [
    "from psycopg2 import sql\n",
    "\n",
    "# Database connection parameters\n",
    "db_params = {\n",
    "    'dbname': 'your_database_name',\n",
    "    'user': 'your_username',\n",
    "    'password': 'your_password',\n",
    "    'host': 'your_host',\n",
    "    'port': 'your_port'\n",
    "}\n",
    "\n",
    "# SQL script\n",
    "sql_scripts = \"\"\"\n",
    "    ----------------------\n",
    "    ---   SQL script   --- \n",
    "    ----------------------\n",
    "    SET statement_timeout = 0;\n",
    "    SET lock_timeout = 0;\n",
    "    SET client_encoding = 'UTF8';\n",
    "    SET standard_conforming_strings = on;\n",
    "    SET check_function_bodies = false;\n",
    "    SET client_min_messages = warning;\n",
    "\n",
    "    SET default_tablespace = '';\n",
    "\n",
    "    SET default_with_oids = false;\n",
    "    -----------------------------\n",
    "    ---   DROP TABLE script   ---\n",
    "    -----------------------------\n",
    "    DROP TABLE IF EXISTS goal;\n",
    "    DROP TABLE IF EXISTS target;\n",
    "    DROP TABLE IF EXISTS subindicator;\n",
    "    DROP TABLE IF EXISTS unemployment;\n",
    "    DROP TABLE IF EXISTS economics;\n",
    "    -------------------------------\n",
    "    ---   CREATE TABLE script   ---\n",
    "    -------------------------------\n",
    "    CREATE TABLE goal (\n",
    "        goal_id smallint NOT NULL PRIMARY KEY,\n",
    "        goal_title varchar(255) NOT NULL,\n",
    "        goal_desc text,\n",
    "        goal_num smallint\n",
    "    );\n",
    "\n",
    "    CREATE TABLE target (\n",
    "        target_id smallint NOT NULL PRIMARY KEY,\n",
    "        goal_id smallint NOT NULL REFERENCES goal(goal_id),\n",
    "        target_num varchar(20) NOT NULL,\n",
    "        target_desc text\n",
    "    );\n",
    "\n",
    "    CREATE TABLE subindicator (\n",
    "        subindicator_id smallint NOT NULL PRIMARY KEY,\n",
    "        subindicator_num varchar(20),\n",
    "        subindicator_desc text\n",
    "    );\n",
    "\n",
    "    CREATE TABLE economics (\n",
    "        economics_id smallint NOT NULL PRIMARY KEY,\n",
    "        target_id smallint NOT NULL REFERENCES target(target_id),\n",
    "        subindicator_id smallint NOT NULL REFERENCES subindicator(subindicator_id),\n",
    "        economics_date varchar(20),\n",
    "        economics_value numeric\n",
    "    );\n",
    "\n",
    "    CREATE TABLE unemployment (\n",
    "        unemployment_id smallint NOT NULL PRIMARY KEY,\n",
    "        target_id smallint NOT NULL REFERENCES target(target_id),\n",
    "        subindicator_id smallint NOT NULL REFERENCES subindicator(subindicator_id),\n",
    "        unemployment_date varchar(20),\n",
    "        unemployment_value numeric\n",
    "    );\n",
    "\"\"\"\n",
    "\n",
    "# Connect to the PostgreSQL database\n",
    "conn = psycopg2.connect(**db_params)\n",
    "\n",
    "# Create a cursor object\n",
    "cursor = conn.cursor()\n",
    "\n",
    "# Execute the SQL scripts\n",
    "cursor.execute(sql_scripts)\n",
    "\n",
    "# Commit the changes\n",
    "conn.commit()\n",
    "\n",
    "# Close the cursor and connection\n",
    "cursor.close()\n",
    "conn.close()\n"
   ]
  },
  {
   "cell_type": "code",
   "execution_count": null,
   "metadata": {},
   "outputs": [],
   "source": []
  }
 ],
 "metadata": {
  "kernelspec": {
   "display_name": "Python 3",
   "language": "python",
   "name": "python3"
  },
  "language_info": {
   "codemirror_mode": {
    "name": "ipython",
    "version": 3
   },
   "file_extension": ".py",
   "mimetype": "text/x-python",
   "name": "python",
   "nbconvert_exporter": "python",
   "pygments_lexer": "ipython3",
   "version": "3.7.4"
  }
 },
 "nbformat": 4,
 "nbformat_minor": 2
}
