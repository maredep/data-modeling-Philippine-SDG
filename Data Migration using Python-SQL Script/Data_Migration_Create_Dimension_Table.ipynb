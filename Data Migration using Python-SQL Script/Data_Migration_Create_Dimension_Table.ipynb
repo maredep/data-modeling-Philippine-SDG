{
 "cells": [
  {
   "cell_type": "code",
   "execution_count": 1,
   "metadata": {},
   "outputs": [
    {
     "name": "stdout",
     "output_type": "stream",
     "text": [
      "Requirement already satisfied: psycopg2 in c:\\programdata\\anaconda3\\lib\\site-packages (2.9.9)\n"
     ]
    }
   ],
   "source": [
    "!pip install psycopg2"
   ]
  },
  {
   "cell_type": "code",
   "execution_count": 2,
   "metadata": {},
   "outputs": [],
   "source": [
    "import pandas as pd\n",
    "import numpy as np\n",
    "import psycopg2"
   ]
  },
  {
   "cell_type": "code",
   "execution_count": 3,
   "metadata": {},
   "outputs": [],
   "source": [
    "from psycopg2 import sql\n",
    "\n",
    "# Database connection parameters\n",
    "db_params = {\n",
    "    'dbname': 'your_database_name',\n",
    "    'user': 'your_username',\n",
    "    'password': 'your_password',\n",
    "    'host': 'your_host',\n",
    "    'port': 'your_port'\n",
    "}\n",
    "\n",
    "# SQL script\n",
    "sql_scripts = \"\"\"\n",
    "    ----------------------\n",
    "    ---   SQL script   --- \n",
    "    ----------------------\n",
    "    SET statement_timeout = 0;\n",
    "    SET lock_timeout = 0;\n",
    "    SET client_encoding = 'UTF8';\n",
    "    SET standard_conforming_strings = on;\n",
    "    SET check_function_bodies = false;\n",
    "    SET client_min_messages = warning;\n",
    "\n",
    "    SET default_tablespace = '';\n",
    "\n",
    "    SET default_with_oids = false;\n",
    "\n",
    "    -----------------------------\n",
    "    ---   DROP TABLE script   ---\n",
    "    -----------------------------\n",
    "    DROP TABLE IF EXISTS goal_dim;\n",
    "    DROP TABLE IF EXISTS target_dim;\n",
    "    DROP TABLE IF EXISTS date_dim;\n",
    "    DROP TABLE IF EXISTS subindicator_dim;\n",
    "\n",
    "    -------------------------------\n",
    "    ---   CREATE TABLE script   ---\n",
    "    -------------------------------\n",
    "    CREATE TABLE goal_dim(\n",
    "        goal_key int PRIMARY KEY,\n",
    "        goal_id int,\n",
    "        goal_title varchar(255) NOT NULL,\n",
    "        goal_desc text,\n",
    "        goal_num smallint\n",
    "    );\n",
    "\n",
    "    CREATE TABLE target_dim(\n",
    "        target_key int PRIMARY KEY,\n",
    "        target_id int,\n",
    "        target_num varchar(20) NOT NULL,\n",
    "        target_desc text\n",
    "    );\n",
    "\n",
    "    CREATE TABLE subindicator_dim(\n",
    "        subindicator_key int PRIMARY KEY,\n",
    "        subindicator_id int,\n",
    "        subindicator_num varchar(20),\n",
    "        subindicator_desc text\n",
    "    );\n",
    "\n",
    "    CREATE TABLE date_dim (\n",
    "        date_key int PRIMARY KEY,\n",
    "        date_year varchar(20)\n",
    "    );\n",
    "\"\"\"\n",
    "\n",
    "# Connect to the PostgreSQL database\n",
    "conn = psycopg2.connect(**db_params)\n",
    "\n",
    "# Create a cursor object\n",
    "cursor = conn.cursor()\n",
    "\n",
    "# Execute the SQL scripts\n",
    "cursor.execute(sql_scripts)\n",
    "\n",
    "# Commit the changes\n",
    "conn.commit()\n",
    "\n",
    "# Close the cursor and connection\n",
    "cursor.close()\n",
    "conn.close()\n"
   ]
  }
 ],
 "metadata": {
  "kernelspec": {
   "display_name": "Python 3",
   "language": "python",
   "name": "python3"
  },
  "language_info": {
   "codemirror_mode": {
    "name": "ipython",
    "version": 3
   },
   "file_extension": ".py",
   "mimetype": "text/x-python",
   "name": "python",
   "nbconvert_exporter": "python",
   "pygments_lexer": "ipython3",
   "version": "3.7.4"
  }
 },
 "nbformat": 4,
 "nbformat_minor": 2
}
